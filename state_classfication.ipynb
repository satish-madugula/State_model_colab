{
  "cells": [
    {
      "cell_type": "markdown",
      "source": [
        "# tfds Dataset Creation"
      ],
      "metadata": {
        "id": "JXCyuFD8JKoD"
      },
      "id": "JXCyuFD8JKoD"
    },
    {
      "cell_type": "code",
      "source": [
        "from google.colab import drive\n",
        "#drive.mount('/content/drive')\n",
        "drive.mount(\"/content/drive\", force_remount=True)"
      ],
      "metadata": {
        "id": "uvwLnHs7JeSY",
        "colab": {
          "base_uri": "https://localhost:8080/"
        },
        "outputId": "547ea5f3-4330-4392-d23a-58e4f2f7d27a"
      },
      "id": "uvwLnHs7JeSY",
      "execution_count": null,
      "outputs": [
        {
          "output_type": "stream",
          "name": "stdout",
          "text": [
            "Mounted at /content/drive\n"
          ]
        }
      ]
    },
    {
      "cell_type": "code",
      "source": [
        "import os"
      ],
      "metadata": {
        "id": "wP7KiEf4I8dC"
      },
      "id": "wP7KiEf4I8dC",
      "execution_count": null,
      "outputs": []
    },
    {
      "cell_type": "code",
      "source": [
        "os.getcwd()"
      ],
      "metadata": {
        "colab": {
          "base_uri": "https://localhost:8080/",
          "height": 36
        },
        "id": "ucYdcmcII8aJ",
        "outputId": "841e3d5c-0e0b-4526-9f6c-510e2cde2fac"
      },
      "id": "ucYdcmcII8aJ",
      "execution_count": null,
      "outputs": [
        {
          "output_type": "execute_result",
          "data": {
            "text/plain": [
              "'/content'"
            ],
            "application/vnd.google.colaboratory.intrinsic+json": {
              "type": "string"
            }
          },
          "metadata": {},
          "execution_count": 3
        }
      ]
    },
    {
      "cell_type": "code",
      "source": [
        "!tar -xvf '/content/drive/MyDrive/State_Train.tar' "
      ],
      "metadata": {
        "id": "amVGnWVWI8XR"
      },
      "id": "amVGnWVWI8XR",
      "execution_count": null,
      "outputs": []
    },
    {
      "cell_type": "code",
      "source": [
        "!pip uninstall tensorflow_datasets"
      ],
      "metadata": {
        "id": "a2qJHebKI8UZ"
      },
      "id": "a2qJHebKI8UZ",
      "execution_count": null,
      "outputs": []
    },
    {
      "cell_type": "code",
      "source": [
        "!pip install tensorflow_datasets"
      ],
      "metadata": {
        "id": "tG-8TbDNI8Ra"
      },
      "id": "tG-8TbDNI8Ra",
      "execution_count": null,
      "outputs": []
    },
    {
      "cell_type": "code",
      "source": [
        "!nvidia-smi"
      ],
      "metadata": {
        "id": "6yidaPCK1ki-"
      },
      "id": "6yidaPCK1ki-",
      "execution_count": null,
      "outputs": []
    },
    {
      "cell_type": "code",
      "source": [
        "!tfds new state_dataset"
      ],
      "metadata": {
        "id": "OVbS3WmFfvQb"
      },
      "id": "OVbS3WmFfvQb",
      "execution_count": null,
      "outputs": []
    },
    {
      "cell_type": "code",
      "source": [
        "!tfds build state_dataset"
      ],
      "metadata": {
        "id": "5FmPvXWBI8OW"
      },
      "id": "5FmPvXWBI8OW",
      "execution_count": null,
      "outputs": []
    },
    {
      "cell_type": "code",
      "source": [],
      "metadata": {
        "id": "Fdu7EFIXI8Kx"
      },
      "id": "Fdu7EFIXI8Kx",
      "execution_count": null,
      "outputs": []
    },
    {
      "cell_type": "code",
      "source": [],
      "metadata": {
        "id": "Db7yUQ9HI8Da"
      },
      "id": "Db7yUQ9HI8Da",
      "execution_count": null,
      "outputs": []
    },
    {
      "cell_type": "markdown",
      "source": [
        "# Mode Building and Training\n"
      ],
      "metadata": {
        "id": "70r-AVkbI95U"
      },
      "id": "70r-AVkbI95U"
    },
    {
      "cell_type": "code",
      "source": [
        "import os\n",
        "import numpy as np\n",
        "from random import shuffle\n",
        "import tensorflow as tf\n",
        "from tensorflow.keras.models import Sequential\n",
        "from tensorflow.keras.layers import Conv2D,MaxPool2D,Dense,Flatten,Activation,Dropout,BatchNormalization,Input,MaxPooling2D\n",
        "import tensorflow_datasets as tfds"
      ],
      "metadata": {
        "id": "M4Xw5iQ1I6V1"
      },
      "id": "M4Xw5iQ1I6V1",
      "execution_count": null,
      "outputs": []
    },
    {
      "cell_type": "code",
      "execution_count": null,
      "id": "5cf85a93-a3f8-4c49-8b51-8fbd5be29e9b",
      "metadata": {
        "id": "5cf85a93-a3f8-4c49-8b51-8fbd5be29e9b"
      },
      "outputs": [],
      "source": [
        "STATE_NAMES = {0: 'USA_RI', 1: 'USA_DC', 2: 'USA_VT', 3: 'USA_PR', 4: 'USA_WY', 5: 'USA_NV', 6: 'USA_UT', 7: 'USA_WA', 8: 'USA_OR',\n",
        "                9: 'USA_NJ', 10: 'USA_HI', 11: 'USA_ND', 12: 'USA_KY', 13: 'USA_AR', 14: 'USA_AZ', 15: 'USA_CA', 16: 'USA_CO', 17: 'USA_FL',\n",
        "                18: 'USA_GA', 19: 'USA_IA', 20: 'USA_IL', 21: 'USA_IN', 22: 'USA_KS', 23: 'USA_LA', 24: 'USA_ME', 25: 'USA_MI', 26: 'USA_MN',\n",
        "                27: 'USA_MO', 28: 'USA_MS', 29: 'USA_NC', 30: 'USA_NM', 31: 'USA_OH', 32: 'USA_OK', 33: 'USA_TN', 34: 'USA_WI', 35: 'USA_ID',\n",
        "                36: 'USA_PA', 37: 'USA_SC', 38: 'USA_NH', 39: 'USA_VA', 40: 'USA_NY', 41: 'USA_CT', 42: 'USA_DE', 43: 'USA_MD', 44: 'USA_AK',\n",
        "                45: 'USA_MT', 46: 'USA_GOV', 47: 'USA_NE', 48: 'USA_AL', 49: 'USA_WV', 50: 'USA_SD', 51: 'USA_TX_TEMP', 52: 'USA_TX_1', 53: 'USA_TX_2'}\n",
        "\n",
        "ds,ds_info = tfds.load('state_dataset',split=['train[:85%]','train[85%:]'],with_info=True)\n",
        "\n",
        "train= ds[0]\n",
        "valid= ds[1]\n",
        "\n",
        "IMAGE_SIZE = (32,128)\n",
        "BATCH_SIZE = 64\n",
        "\n",
        "def img_resize(x):\n",
        "    img = tf.image.resize(x['image'],IMAGE_SIZE)\n",
        "    label = tf.one_hot(x['label'],54)\n",
        "    return img, label\n",
        "\n",
        "train_data = (train.map(img_resize)).batch(BATCH_SIZE).prefetch(tf.data.AUTOTUNE)\n",
        "valid_data = (valid.map(img_resize)).batch(BATCH_SIZE).prefetch(tf.data.AUTOTUNE)\n"
      ]
    },
    {
      "cell_type": "code",
      "execution_count": null,
      "id": "cd075322-4a44-410c-93a9-86a0f752c16e",
      "metadata": {
        "colab": {
          "base_uri": "https://localhost:8080/"
        },
        "id": "cd075322-4a44-410c-93a9-86a0f752c16e",
        "outputId": "0144f780-95a0-4007-8289-37f4dde027fb"
      },
      "outputs": [
        {
          "output_type": "stream",
          "name": "stdout",
          "text": [
            "Epoch 1/50\n",
            "21481/21481 [==============================] - ETA: 0s - loss: 0.4792 - accuracy: 0.9011\n",
            "Epoch 1: val_accuracy improved from -inf to 0.91852, saving model to /content/drive/MyDrive/State_model_with_weights/State_classificationModel_tfds_for_50_test_colab.hdf5\n",
            "21481/21481 [==============================] - 349s 16ms/step - loss: 0.4792 - accuracy: 0.9011 - val_loss: 0.3676 - val_accuracy: 0.9185\n",
            "Epoch 2/50\n",
            "21477/21481 [============================>.] - ETA: 0s - loss: 0.3104 - accuracy: 0.9349\n",
            "Epoch 2: val_accuracy improved from 0.91852 to 0.93802, saving model to /content/drive/MyDrive/State_model_with_weights/State_classificationModel_tfds_for_50_test_colab.hdf5\n",
            "21481/21481 [==============================] - 336s 16ms/step - loss: 0.3103 - accuracy: 0.9349 - val_loss: 0.2994 - val_accuracy: 0.9380\n",
            "Epoch 3/50\n",
            "21481/21481 [==============================] - ETA: 0s - loss: 0.2831 - accuracy: 0.9406\n",
            "Epoch 3: val_accuracy did not improve from 0.93802\n",
            "21481/21481 [==============================] - 337s 16ms/step - loss: 0.2831 - accuracy: 0.9406 - val_loss: 0.3118 - val_accuracy: 0.9325\n",
            "Epoch 4/50\n",
            "21478/21481 [============================>.] - ETA: 0s - loss: 0.2659 - accuracy: 0.9439\n",
            "Epoch 4: val_accuracy improved from 0.93802 to 0.94354, saving model to /content/drive/MyDrive/State_model_with_weights/State_classificationModel_tfds_for_50_test_colab.hdf5\n",
            "21481/21481 [==============================] - 336s 16ms/step - loss: 0.2659 - accuracy: 0.9439 - val_loss: 0.2810 - val_accuracy: 0.9435\n",
            "Epoch 5/50\n",
            "21477/21481 [============================>.] - ETA: 0s - loss: 0.2593 - accuracy: 0.9451\n",
            "Epoch 5: val_accuracy improved from 0.94354 to 0.94383, saving model to /content/drive/MyDrive/State_model_with_weights/State_classificationModel_tfds_for_50_test_colab.hdf5\n",
            "21481/21481 [==============================] - 336s 16ms/step - loss: 0.2593 - accuracy: 0.9451 - val_loss: 0.2838 - val_accuracy: 0.9438\n",
            "Epoch 6/50\n",
            "21481/21481 [==============================] - ETA: 0s - loss: 0.2525 - accuracy: 0.9462\n",
            "Epoch 6: val_accuracy did not improve from 0.94383\n",
            "21481/21481 [==============================] - 335s 16ms/step - loss: 0.2525 - accuracy: 0.9462 - val_loss: 0.2898 - val_accuracy: 0.9430\n",
            "Epoch 7/50\n",
            "21480/21481 [============================>.] - ETA: 0s - loss: 0.2456 - accuracy: 0.9473\n",
            "Epoch 7: val_accuracy did not improve from 0.94383\n",
            "21481/21481 [==============================] - 335s 16ms/step - loss: 0.2456 - accuracy: 0.9473 - val_loss: 0.3418 - val_accuracy: 0.9292\n",
            "Epoch 8/50\n",
            "21477/21481 [============================>.] - ETA: 0s - loss: 0.2447 - accuracy: 0.9473\n",
            "Epoch 8: val_accuracy did not improve from 0.94383\n",
            "21481/21481 [==============================] - 335s 16ms/step - loss: 0.2447 - accuracy: 0.9473 - val_loss: 0.3012 - val_accuracy: 0.9390\n",
            "Epoch 9/50\n",
            "21480/21481 [============================>.] - ETA: 0s - loss: 0.2361 - accuracy: 0.9490\n",
            "Epoch 9: val_accuracy did not improve from 0.94383\n",
            "21481/21481 [==============================] - 335s 16ms/step - loss: 0.2361 - accuracy: 0.9490 - val_loss: 0.2934 - val_accuracy: 0.9422\n",
            "Epoch 10/50\n",
            "21480/21481 [============================>.] - ETA: 0s - loss: 0.2351 - accuracy: 0.9489\n",
            "Epoch 10: val_accuracy improved from 0.94383 to 0.94392, saving model to /content/drive/MyDrive/State_model_with_weights/State_classificationModel_tfds_for_50_test_colab.hdf5\n",
            "21481/21481 [==============================] - 335s 16ms/step - loss: 0.2351 - accuracy: 0.9489 - val_loss: 0.2968 - val_accuracy: 0.9439\n",
            "Epoch 11/50\n",
            "21477/21481 [============================>.] - ETA: 0s - loss: 0.2363 - accuracy: 0.9483\n",
            "Epoch 11: val_accuracy did not improve from 0.94392\n",
            "21481/21481 [==============================] - 336s 16ms/step - loss: 0.2363 - accuracy: 0.9483 - val_loss: 0.3625 - val_accuracy: 0.9273\n",
            "Epoch 12/50\n",
            "21477/21481 [============================>.] - ETA: 0s - loss: 0.2340 - accuracy: 0.9488\n",
            "Epoch 12: val_accuracy did not improve from 0.94392\n",
            "21481/21481 [==============================] - 335s 16ms/step - loss: 0.2340 - accuracy: 0.9488 - val_loss: 0.3287 - val_accuracy: 0.9391\n",
            "Epoch 13/50\n",
            "21478/21481 [============================>.] - ETA: 0s - loss: 0.2253 - accuracy: 0.9505\n",
            "Epoch 13: val_accuracy did not improve from 0.94392\n",
            "21481/21481 [==============================] - 335s 16ms/step - loss: 0.2254 - accuracy: 0.9505 - val_loss: 0.4198 - val_accuracy: 0.9128\n",
            "Epoch 14/50\n",
            "21477/21481 [============================>.] - ETA: 0s - loss: 0.2361 - accuracy: 0.9478\n",
            "Epoch 14: val_accuracy did not improve from 0.94392\n",
            "21481/21481 [==============================] - 335s 16ms/step - loss: 0.2361 - accuracy: 0.9478 - val_loss: 0.3086 - val_accuracy: 0.9403\n"
          ]
        }
      ],
      "source": [
        "EPOCHS = 50\n",
        "\n",
        "model =tf.keras.Sequential()\n",
        "model.add(Conv2D(filters=64,padding='same',kernel_size=3,activation='relu',input_shape=(32,128,3)))\n",
        "model.add(tf.keras.layers.MaxPool2D(pool_size=2,strides=2))\n",
        "\n",
        "model.add(tf.keras.layers.Conv2D(filters=128,padding='same',kernel_size=3,activation='relu'))\n",
        "model.add(tf.keras.layers.MaxPool2D(pool_size=2,strides=2))\n",
        "\n",
        "model.add(tf.keras.layers.Conv2D(filters=256,padding='same',kernel_size=3,activation='relu'))\n",
        "model.add(tf.keras.layers.Conv2D(filters=256,padding='same',kernel_size=3,activation='relu'))\n",
        "model.add(tf.keras.layers.MaxPool2D(pool_size=(2,1)))\n",
        "\n",
        "model.add(tf.keras.layers.Flatten())\n",
        "model.add(tf.keras.layers.Dense(54,activation='softmax'))\n",
        "\n",
        "model.compile(optimizer=tf.keras.optimizers.Adam(),loss='categorical_crossentropy',metrics=['accuracy'])\n",
        "\n",
        "filepath = \"/content/drive/MyDrive/State_model_with_weights/State_classificationModel_tfds_for_50_test_colab.hdf5\"\n",
        "checkpoint = tf.keras.callbacks.ModelCheckpoint(logs_dir='logs',filepath=filepath, monitor='val_accuracy', verbose=1, save_best_only=True, mode='auto',save_weights_only=False)\n",
        "early_stopping = tf.keras.callbacks.EarlyStopping(patience=10),\n",
        "tensor_board_callback = tf.keras.callbacks.TensorBoard(log_dir='./logs')\n",
        "callbacks_list = [early_stopping,checkpoint,tensor_board_callback]\n",
        "\n",
        "history = model.fit(train_data,epochs=EPOCHS,callbacks=callbacks_list,verbose=1, validation_data=valid_data)\n"
      ]
    },
    {
      "cell_type": "code",
      "execution_count": null,
      "id": "739c2fd0-b978-4cbb-8d6b-699bd705acb9",
      "metadata": {
        "id": "739c2fd0-b978-4cbb-8d6b-699bd705acb9"
      },
      "outputs": [],
      "source": [
        "## For Inference\n",
        "pred_model = tf.keras.models.load_model('/content/drive/MyDrive/State_model_with_weights/State_classificationModel_tfds_for_50_test_colab.hdf5')"
      ]
    },
    {
      "cell_type": "code",
      "execution_count": null,
      "id": "47a1f08a-0bd7-405e-b14e-3210feefb1a9",
      "metadata": {
        "id": "47a1f08a-0bd7-405e-b14e-3210feefb1a9"
      },
      "outputs": [],
      "source": [
        "path =\"/content/PGBTMLP6-0086185E9AB6ADB048C0EE3.JPG\"\n",
        "image = tf.io.read_file(path)\n",
        "image = tf.image.decode_image(image,channels=3)\n",
        "image = tf.image.resize(image,(32,128))\n",
        "image = tf.expand_dims(image,axis=0)\n",
        "predictions = pred_model.predict(image)\n",
        "\n",
        "class_index = np.argmax(predictions)\n",
        "state = STATE_NAMES[class_index]\n",
        "confidence_score = predictions[0][np.argmax(predictions)]"
      ]
    },
    {
      "cell_type": "code",
      "execution_count": null,
      "id": "8017dc57-1f61-4003-804a-8e76b17ca1b8",
      "metadata": {
        "id": "8017dc57-1f61-4003-804a-8e76b17ca1b8",
        "colab": {
          "base_uri": "https://localhost:8080/"
        },
        "outputId": "0402a515-eefe-4610-d4e0-bdae771a0999"
      },
      "outputs": [
        {
          "output_type": "stream",
          "name": "stdout",
          "text": [
            "USA_TX_2\n",
            "0.99998784\n"
          ]
        }
      ],
      "source": [
        "print(state)\n",
        "print(confidence_score)"
      ]
    },
    {
      "cell_type": "code",
      "execution_count": null,
      "id": "73c43900-9bf9-46d3-8394-03098b5624d5",
      "metadata": {
        "id": "73c43900-9bf9-46d3-8394-03098b5624d5"
      },
      "outputs": [],
      "source": [
        "!tar -xvf ROIs.tar"
      ]
    },
    {
      "cell_type": "code",
      "source": [
        "from tqdm import tqdm"
      ],
      "metadata": {
        "id": "8BSF8eCsS0-h"
      },
      "id": "8BSF8eCsS0-h",
      "execution_count": null,
      "outputs": []
    },
    {
      "cell_type": "code",
      "execution_count": null,
      "id": "b1390620-1725-4da7-8092-048aca0b1b86",
      "metadata": {
        "id": "b1390620-1725-4da7-8092-048aca0b1b86",
        "colab": {
          "base_uri": "https://localhost:8080/"
        },
        "outputId": "610df28e-0c1c-4046-8564-1b09ff797b6b"
      },
      "outputs": [
        {
          "output_type": "stream",
          "name": "stderr",
          "text": [
            "100%|██████████| 8416/8416 [05:46<00:00, 24.29it/s]\n"
          ]
        }
      ],
      "source": [
        "rois_path = '/content/ROIs'\n",
        "with open('/content/drive/MyDrive/ROIs_state.txt', 'a+') as f:\n",
        "  for file in tqdm(os.listdir(rois_path)):\n",
        "    #print(file)\n",
        "    image = tf.io.read_file(os.path.join(rois_path,file))\n",
        "    if(len(image.numpy())!=0):\n",
        "      image = tf.image.decode_image(image,channels=3)\n",
        "      image = tf.image.resize(image,(32,128))\n",
        "      image = tf.expand_dims(image,axis=0)\n",
        "      predictions = pred_model.predict(image)\n",
        "      class_index = np.argmax(predictions)\n",
        "      state = STATE_NAMES[class_index]\n",
        "      confidence_score = predictions[0][np.argmax(predictions)]\n",
        "      f.write(file+\",\"+state+\",\"+str(confidence_score)+\"\\n\")\n",
        "    else:\n",
        "      f.write(file+\",\"+\" could not read image\"+\"\\n\")\n"
      ]
    },
    {
      "cell_type": "code",
      "execution_count": null,
      "id": "9154a472-1338-4c6f-8b38-bec66b7449ad",
      "metadata": {
        "id": "9154a472-1338-4c6f-8b38-bec66b7449ad"
      },
      "outputs": [],
      "source": [
        "im = tf.io.read_file(os.path.join(rois_path,'0092424100220210413170206530000_2.JPG'))"
      ]
    },
    {
      "cell_type": "code",
      "execution_count": null,
      "id": "d08b1801-f461-420b-9265-22f86d49d5d8",
      "metadata": {
        "id": "d08b1801-f461-420b-9265-22f86d49d5d8",
        "colab": {
          "base_uri": "https://localhost:8080/"
        },
        "outputId": "8303b1a5-4864-4df8-9de7-5c2025271f4e"
      },
      "outputs": [
        {
          "output_type": "execute_result",
          "data": {
            "text/plain": [
              "3899"
            ]
          },
          "metadata": {},
          "execution_count": 55
        }
      ],
      "source": [
        "len(im.numpy())"
      ]
    },
    {
      "cell_type": "code",
      "execution_count": null,
      "id": "5f4daad8-7aac-4914-8bd7-c50d3c6ca39b",
      "metadata": {
        "id": "5f4daad8-7aac-4914-8bd7-c50d3c6ca39b"
      },
      "outputs": [],
      "source": []
    },
    {
      "cell_type": "code",
      "execution_count": null,
      "id": "251bb309-9b13-49be-ab2b-98fa45d5f2ee",
      "metadata": {
        "id": "251bb309-9b13-49be-ab2b-98fa45d5f2ee"
      },
      "outputs": [],
      "source": []
    },
    {
      "cell_type": "code",
      "execution_count": null,
      "id": "f345ce88-43e8-4027-ae39-2b86975b4b99",
      "metadata": {
        "id": "f345ce88-43e8-4027-ae39-2b86975b4b99"
      },
      "outputs": [],
      "source": []
    },
    {
      "cell_type": "code",
      "execution_count": null,
      "id": "7e273705-8300-45ea-9ddd-a28df2cadaef",
      "metadata": {
        "id": "7e273705-8300-45ea-9ddd-a28df2cadaef"
      },
      "outputs": [],
      "source": []
    },
    {
      "cell_type": "code",
      "execution_count": null,
      "id": "7eec5de2-c266-462c-b2ad-b07a610d6d19",
      "metadata": {
        "id": "7eec5de2-c266-462c-b2ad-b07a610d6d19"
      },
      "outputs": [],
      "source": []
    },
    {
      "cell_type": "code",
      "execution_count": null,
      "id": "2e8270ee-9498-48ce-88cb-b92396ef4e81",
      "metadata": {
        "id": "2e8270ee-9498-48ce-88cb-b92396ef4e81"
      },
      "outputs": [],
      "source": []
    },
    {
      "cell_type": "code",
      "execution_count": null,
      "id": "fe83fa03-4b74-4174-962e-b05fc6f71843",
      "metadata": {
        "id": "fe83fa03-4b74-4174-962e-b05fc6f71843"
      },
      "outputs": [],
      "source": []
    },
    {
      "cell_type": "code",
      "execution_count": null,
      "id": "e67e926b-92a5-4295-ad8f-65a8216e8cec",
      "metadata": {
        "id": "e67e926b-92a5-4295-ad8f-65a8216e8cec"
      },
      "outputs": [],
      "source": []
    },
    {
      "cell_type": "code",
      "execution_count": null,
      "id": "73c0694b-00d2-4973-a54b-32be5a6b9d62",
      "metadata": {
        "id": "73c0694b-00d2-4973-a54b-32be5a6b9d62"
      },
      "outputs": [],
      "source": []
    },
    {
      "cell_type": "code",
      "execution_count": null,
      "id": "1316b065-88cd-4169-8506-8d4ce15635d0",
      "metadata": {
        "id": "1316b065-88cd-4169-8506-8d4ce15635d0"
      },
      "outputs": [],
      "source": []
    },
    {
      "cell_type": "code",
      "execution_count": null,
      "id": "7ee2cca9-5da6-40cc-b1a0-27b9d7fbb621",
      "metadata": {
        "id": "7ee2cca9-5da6-40cc-b1a0-27b9d7fbb621"
      },
      "outputs": [],
      "source": []
    },
    {
      "cell_type": "code",
      "execution_count": null,
      "id": "66b83684-5cd5-40ff-a97b-342aa0b9c6a0",
      "metadata": {
        "id": "66b83684-5cd5-40ff-a97b-342aa0b9c6a0"
      },
      "outputs": [],
      "source": []
    },
    {
      "cell_type": "code",
      "execution_count": null,
      "id": "1297d041-25ba-46ea-9831-4962590fb1bd",
      "metadata": {
        "id": "1297d041-25ba-46ea-9831-4962590fb1bd"
      },
      "outputs": [],
      "source": []
    },
    {
      "cell_type": "code",
      "execution_count": null,
      "id": "7bcca413-812a-4aeb-8b56-1ead37942dd7",
      "metadata": {
        "id": "7bcca413-812a-4aeb-8b56-1ead37942dd7"
      },
      "outputs": [],
      "source": []
    },
    {
      "cell_type": "code",
      "execution_count": null,
      "id": "91923b10-2502-44a4-b74f-f9bf42290616",
      "metadata": {
        "id": "91923b10-2502-44a4-b74f-f9bf42290616"
      },
      "outputs": [],
      "source": []
    },
    {
      "cell_type": "code",
      "execution_count": null,
      "id": "d18f7cf6-aeb6-4a86-8582-d4daec1d6f5f",
      "metadata": {
        "id": "d18f7cf6-aeb6-4a86-8582-d4daec1d6f5f"
      },
      "outputs": [],
      "source": []
    },
    {
      "cell_type": "code",
      "execution_count": null,
      "id": "a59761c4-1209-41c5-81d2-e071cffba43f",
      "metadata": {
        "id": "a59761c4-1209-41c5-81d2-e071cffba43f"
      },
      "outputs": [],
      "source": []
    },
    {
      "cell_type": "code",
      "execution_count": null,
      "id": "4d2a9587-3407-47e2-8949-422f951d0233",
      "metadata": {
        "id": "4d2a9587-3407-47e2-8949-422f951d0233"
      },
      "outputs": [],
      "source": []
    },
    {
      "cell_type": "code",
      "execution_count": null,
      "id": "a04661c7-311d-44da-affd-b1bc519c0a09",
      "metadata": {
        "id": "a04661c7-311d-44da-affd-b1bc519c0a09"
      },
      "outputs": [],
      "source": []
    },
    {
      "cell_type": "code",
      "execution_count": null,
      "id": "690691df-ce40-4aa5-a1f8-463b798f7018",
      "metadata": {
        "id": "690691df-ce40-4aa5-a1f8-463b798f7018"
      },
      "outputs": [],
      "source": []
    }
  ],
  "metadata": {
    "kernelspec": {
      "display_name": "Python 3",
      "language": "python",
      "name": "python3"
    },
    "language_info": {
      "codemirror_mode": {
        "name": "ipython",
        "version": 3
      },
      "file_extension": ".py",
      "mimetype": "text/x-python",
      "name": "python",
      "nbconvert_exporter": "python",
      "pygments_lexer": "ipython3",
      "version": "3.8.8"
    },
    "colab": {
      "provenance": [],
      "collapsed_sections": [],
      "machine_shape": "hm"
    },
    "accelerator": "GPU",
    "gpuClass": "standard"
  },
  "nbformat": 4,
  "nbformat_minor": 5
}